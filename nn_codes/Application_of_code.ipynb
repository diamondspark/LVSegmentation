{
 "cells": [
  {
   "cell_type": "code",
   "execution_count": 1,
   "metadata": {
    "collapsed": false,
    "deletable": true,
    "editable": true
   },
   "outputs": [],
   "source": [
    "import torch\n",
    "from sparse_ae import *\n",
    "#import matplotlib.pyplot as plt\n",
    "from scipy.misc import imresize\n",
    "from torch.autograd import Variable\n",
    "import sys\n",
    "import numpy as np\n",
    "%matplotlib inline\n",
    "sys.path.append('../Localization/')\n",
    "from torchvision import datasets,models,transforms\n",
    "import os\n",
    "#from image import readImage\n",
    "from utils import *"
   ]
  },
  {
   "cell_type": "code",
   "execution_count": 2,
   "metadata": {
    "collapsed": false,
    "deletable": true,
    "editable": true
   },
   "outputs": [],
   "source": [
    "img_path = ['/data/gabriel/LVseg/patches/Training' , '/data/gabriel/LVseg/patches/Training_256']\n",
    "#epoch_sae = [2000,5000\n",
    "#for e_sae in epoch_sae:\n",
    "epoch_sae = [5000,int(0.5*100000)]\n",
    "\n",
    "for e_sae in epoch_sae:\n",
    "    for img_path2 in img_path:\n",
    "        total_im = sum([1 for i in os.listdir(img_path2) if '.png' in i])\n",
    "    \n",
    "        n = img_path2[::-1][:img_path2[::-1].find('/')][::-1]\n",
    "    \n",
    "        a = SAE(n_in=11,n_h=100,n_out=11,img_path=img_path2,b_size = total_im,patch_size=11,lr = 0.001,gpu=2)\n",
    "        w,b = train_sae(a,epochs = e_sae)\n",
    "        with open('/data/gabriel/LVseg/'+str(e_sae)+'_'+str(n)+'.p','wb') as f:\n",
    "            pickle.dump([w,b],f)\n",
    "\n"
   ]
  },
  {
   "cell_type": "code",
   "execution_count": null,
   "metadata": {
    "collapsed": false,
    "deletable": true,
    "editable": true,
    "scrolled": false
   },
   "outputs": [],
   "source": [
    "#img_path = '/data/gabriel/LVseg/dataset_img/img/Training'\n",
    "\n",
    "#img_path = '/data/gabriel/LVseg/dataset_img/img/Training'\n",
    "\n",
    "pre_train_sae = [True]\n",
    "pre_train_cl = [True,False]\n",
    "epoch_cl = [5000,10000,10**5]\n",
    "#epoch_cl = [3,1,2]\n",
    "\n",
    "cl_lr = [0.001,0.0001,0.00001]\n",
    "\n",
    "for cl_lrs in cl_lr:\n",
    "    for e_cl in epoch_cl:\n",
    "        \n",
    "            for p_cl in pre_train_cl:\n",
    "                nn_l = localnet(img_path='/data/gabriel/LVseg/dataset_img/img_256/',label_path='/data/gabriel/LVseg/dataset_img/box_256/',b_size=999,test_fraction=0.1,lr = cl_lrs,gpu=1)\n",
    "\n",
    "                \n",
    "                for e_sae in epoch_sae:\n",
    "                    with open('/data/gabriel/LVseg/'+str(e_sae)+'.p','rb') as ff:\n",
    "                        [w,b] = pickle.load(ff)\n",
    "                    for p in nn_l.modules():\n",
    "                        if isinstance(p,nn.Conv2d):\n",
    "                            #print(p.weight.data)\n",
    "                            #print(p.bias.data)\n",
    "                            p.weight.data, p.bias.data= w.view(100,1,11,11),b\n",
    "                            break\n",
    "                    save_dir_name = '/data/gabriel/LVseg/'+str(p_sae)+'_'+str(p_cl)+'_'+str(e_sae)+'_'+str(e_cl)+'_'+str(cl_lrs)\n",
    "                    save_dir_name2 = '/data/gabriel/LVseg/'+str(p_sae)+'_'+str(p_cl)+'_'+str(e_sae)+'_'+str(e_cl)+'_'+str(cl_lrs)+'_best_loss'\n",
    "\n",
    "                    model_name = str(p_sae)+'_'+str(p_cl)+'_'+str(e_sae)+'_'+str(e_cl)+'_'+str(cl_lrs)+'.pth.tar'\n",
    "                    os.makedirs(save_dir_name)\n",
    "                    os.makedirs(save_dir_name2)\n",
    "                    train_lnet(model=nn_l,epochs=e_cl,fname = save_dir_name+'/'+model_name,pretrain=p_cl,save_dir=save_dir_name)\n",
    "\n",
    "                    test_lnet(model=nn_l,fname=save_dir_name+'/'+model_name,save_dir=save_dir_name)\n",
    "                    test_lnet(model=nn_l,fname=save_dir_name+'/'+model_name[:model_name.find('.pth.')]+'_best_loss.pth.tar',save_dir=save_dir_name2)\n"
   ]
  }
 ],
 "metadata": {
  "anaconda-cloud": {},
  "kernelspec": {
   "display_name": "Python [conda root]",
   "language": "python",
   "name": "conda-root-py"
  },
  "language_info": {
   "codemirror_mode": {
    "name": "ipython",
    "version": 3
   },
   "file_extension": ".py",
   "mimetype": "text/x-python",
   "name": "python",
   "nbconvert_exporter": "python",
   "pygments_lexer": "ipython3",
   "version": "3.6.0"
  }
 },
 "nbformat": 4,
 "nbformat_minor": 2
}
