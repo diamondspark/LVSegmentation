{
 "cells": [
  {
   "cell_type": "code",
   "execution_count": null,
   "metadata": {
    "collapsed": false,
    "deletable": true,
    "editable": true
   },
   "outputs": [],
   "source": []
  },
  {
   "cell_type": "code",
   "execution_count": 1,
   "metadata": {
    "collapsed": false,
    "deletable": true,
    "editable": true
   },
   "outputs": [],
   "source": [
    "import torch\n",
    "from sparse_ae import *\n",
    "import matplotlib.pyplot as plt\n",
    "from scipy.misc import imresize\n",
    "from torch.autograd import Variable\n",
    "\n"
   ]
  },
  {
   "cell_type": "code",
   "execution_count": null,
   "metadata": {
    "collapsed": true
   },
   "outputs": [],
   "source": [
    "import dicom\n"
   ]
  },
  {
   "cell_type": "code",
   "execution_count": 2,
   "metadata": {
    "collapsed": true
   },
   "outputs": [],
   "source": [
    "%matplotlib inline\n",
    "\n",
    "from torchvision import datasets,models,transforms\n"
   ]
  },
  {
   "cell_type": "code",
   "execution_count": 3,
   "metadata": {
    "collapsed": false,
    "deletable": true,
    "editable": true
   },
   "outputs": [],
   "source": [
    "a = SAE(data_path = '/data/gabriel/LVseg/dataset/')"
   ]
  },
  {
   "cell_type": "code",
   "execution_count": 4,
   "metadata": {
    "collapsed": false
   },
   "outputs": [
    {
     "name": "stdout",
     "output_type": "stream",
     "text": [
      "({'Training': <torchvision.datasets.folder.ImageFolder object at 0x7f465ba85410>, 'Validation': <torchvision.datasets.folder.ImageFolder object at 0x7f465ba97590>}, {'Training': <torch.utils.data.dataloader.DataLoader object at 0x7f465ba97810>, 'Validation': <torch.utils.data.dataloader.DataLoader object at 0x7f465ba97850>}, {'Training': 37860, 'Validation': 0})\n"
     ]
    }
   ],
   "source": [
    "print(a.transform())"
   ]
  },
  {
   "cell_type": "code",
   "execution_count": 5,
   "metadata": {
    "collapsed": true
   },
   "outputs": [],
   "source": [
    "A = 10.5*torch.ones(100,1,11,11)"
   ]
  },
  {
   "cell_type": "code",
   "execution_count": 6,
   "metadata": {
    "collapsed": false
   },
   "outputs": [],
   "source": [
    "for m in a.modules():\n",
    "    if isinstance(m,nn.Conv2d):\n",
    "        m.weight.data = A\n",
    "        #m.weight.data.fill_(0)"
   ]
  },
  {
   "cell_type": "code",
   "execution_count": 7,
   "metadata": {
    "collapsed": false
   },
   "outputs": [],
   "source": [
    "for m in a.modules():\n",
    "    if isinstance(m,nn.Conv2d):\n",
    "        print(m.weight.data)"
   ]
  },
  {
   "cell_type": "code",
   "execution_count": 19,
   "metadata": {
    "collapsed": false
   },
   "outputs": [
    {
     "name": "stdout",
     "output_type": "stream",
     "text": [
      "SAE (\n",
      "  (fc1): Linear (121 -> 100)\n",
      "  (fc2): Linear (100 -> 121)\n",
      "  (f): Sigmoid ()\n",
      ")\n",
      "Linear (121 -> 100)\n",
      "Parameter containing:\n",
      "1.00000e-02 *\n",
      " 7.9153 -8.0981 -2.3735  ...   1.3393  2.6653  1.5556\n",
      " 8.0232 -8.4933 -2.1204  ...  -8.4809 -8.6775 -8.9035\n",
      "-3.1063  5.6688  5.6674  ...  -2.2714  2.4461 -7.1711\n",
      "          ...             ⋱             ...          \n",
      "-1.5050 -2.7522 -1.9433  ...  -2.4836  4.6029 -6.9382\n",
      " 8.1744 -1.4407 -2.7273  ...   2.6854 -4.4012 -0.1158\n",
      " 3.2483 -0.9593 -3.3936  ...  -4.4406 -6.9243  5.2426\n",
      "[torch.FloatTensor of size 100x121]\n",
      "\n",
      "Linear (100 -> 121)\n",
      "Parameter containing:\n",
      "1.00000e-02 *\n",
      " 7.6172  9.8612  2.9996  ...   0.8052  2.3573 -9.8828\n",
      " 7.4379  7.6678  7.5334  ...  -9.7101 -4.2153 -3.7436\n",
      "-1.8247  0.6076  8.2133  ...   4.5536 -2.5188 -0.6933\n",
      "          ...             ⋱             ...          \n",
      "-0.5191  8.4298  8.3715  ...   6.8397 -9.1733 -6.4201\n",
      " 4.3678 -3.6733 -6.3221  ...  -3.8332 -5.8179 -4.1027\n",
      " 5.3867  0.1501  9.5861  ...   0.3126  7.4011  5.6350\n",
      "[torch.FloatTensor of size 121x100]\n",
      "\n",
      "Sigmoid ()\n"
     ]
    }
   ],
   "source": [
    "#a.get_patches('./')\n",
    "for p in a.modules():\n",
    "    \n",
    "    try:\n",
    "        print(p)\n",
    "        print(p.weight)\n",
    "    except:\n",
    "        continue"
   ]
  },
  {
   "cell_type": "code",
   "execution_count": 12,
   "metadata": {
    "collapsed": false
   },
   "outputs": [
    {
     "name": "stdout",
     "output_type": "stream",
     "text": [
      "SAE (\n",
      "  (fc1): Linear (121 -> 100)\n",
      "  (fc2): Linear (100 -> 121)\n",
      "  (f): Sigmoid ()\n",
      ")\n",
      "Linear (121 -> 100)\n",
      "Linear (100 -> 121)\n",
      "Sigmoid ()\n"
     ]
    }
   ],
   "source": [
    "from collections import OrderedDict\n",
    "new_state_dict=OrderedDict()\n",
    "\n",
    "#print(a.conv)\n",
    "\n",
    "\n",
    "for param in a.modules():\n",
    "    print param\n",
    "\n",
    "#b = a.state_dict()\n",
    "\n",
    "\n",
    "#for k,v in a.state_dict:\n",
    "#    print(k,v)\n",
    "     "
   ]
  },
  {
   "cell_type": "code",
   "execution_count": null,
   "metadata": {
    "collapsed": false
   },
   "outputs": [],
   "source": [
    "for i,j in a.modules():\n",
    "    print(i)\n",
    "    print(j)"
   ]
  },
  {
   "cell_type": "code",
   "execution_count": null,
   "metadata": {
    "collapsed": false,
    "deletable": true,
    "editable": true
   },
   "outputs": [],
   "source": [
    "import cv2\n",
    "a = cv2.imread('/data/gabriel/LVseg/a.png')\n",
    "\n",
    "b = imresize(a[:,:,0].astype(float),(121,121))"
   ]
  },
  {
   "cell_type": "code",
   "execution_count": null,
   "metadata": {
    "collapsed": false,
    "deletable": true,
    "editable": true
   },
   "outputs": [],
   "source": [
    "print(b.shape\n",
    "     )"
   ]
  },
  {
   "cell_type": "code",
   "execution_count": null,
   "metadata": {
    "collapsed": false,
    "deletable": true,
    "editable": true
   },
   "outputs": [],
   "source": [
    "model = SAE(n_in =b.shape[0]**1,n_h = 100**1, n_out = b.shape[0]**1)\n",
    "plt.imshow(b,cmap='gray')\n",
    "plt.show()"
   ]
  },
  {
   "cell_type": "code",
   "execution_count": null,
   "metadata": {
    "collapsed": false,
    "deletable": true,
    "editable": true
   },
   "outputs": [],
   "source": [
    "b = b.astype(float)\n",
    "b -=b.mean()\n",
    "b /=b.std()\n",
    "#b = (b - b.min())*(2/(b.max()-b.min())) - 1\n",
    "c = torch.Tensor(b)\n",
    "#output = model(b)"
   ]
  },
  {
   "cell_type": "code",
   "execution_count": null,
   "metadata": {
    "collapsed": false,
    "deletable": true,
    "editable": true
   },
   "outputs": [],
   "source": [
    "plt.imshow(b,cmap='gray')"
   ]
  },
  {
   "cell_type": "code",
   "execution_count": null,
   "metadata": {
    "collapsed": false,
    "deletable": true,
    "editable": true
   },
   "outputs": [],
   "source": [
    "print(b.min(),b.max(),b.mean())"
   ]
  },
  {
   "cell_type": "code",
   "execution_count": null,
   "metadata": {
    "collapsed": false,
    "deletable": true,
    "editable": true
   },
   "outputs": [],
   "source": [
    "from sparse_ae import train"
   ]
  },
  {
   "cell_type": "code",
   "execution_count": null,
   "metadata": {
    "collapsed": false,
    "deletable": true,
    "editable": true
   },
   "outputs": [],
   "source": [
    "#output = model(Variable(c))"
   ]
  },
  {
   "cell_type": "code",
   "execution_count": null,
   "metadata": {
    "collapsed": false,
    "deletable": true,
    "editable": true,
    "scrolled": true
   },
   "outputs": [],
   "source": [
    "\n",
    "\n",
    "train(model,c,50)"
   ]
  },
  {
   "cell_type": "code",
   "execution_count": null,
   "metadata": {
    "collapsed": false,
    "deletable": true,
    "editable": true
   },
   "outputs": [],
   "source": [
    "#out = output.data"
   ]
  },
  {
   "cell_type": "code",
   "execution_count": null,
   "metadata": {
    "collapsed": false,
    "deletable": true,
    "editable": true
   },
   "outputs": [],
   "source": [
    "#out1 = out.numpy()"
   ]
  },
  {
   "cell_type": "code",
   "execution_count": null,
   "metadata": {
    "collapsed": false,
    "deletable": true,
    "editable": true
   },
   "outputs": [],
   "source": [
    "#out1 = out1.reshape(121,121)"
   ]
  },
  {
   "cell_type": "code",
   "execution_count": null,
   "metadata": {
    "collapsed": false,
    "deletable": true,
    "editable": true
   },
   "outputs": [],
   "source": [
    "#plt.imshow(out1),plt.show()"
   ]
  },
  {
   "cell_type": "code",
   "execution_count": null,
   "metadata": {
    "collapsed": false,
    "deletable": true,
    "editable": true
   },
   "outputs": [],
   "source": [
    "#out = output.numpy().transpose(1,2,0)"
   ]
  }
 ],
 "metadata": {
  "kernelspec": {
   "display_name": "P27",
   "language": "python",
   "name": "p27"
  },
  "language_info": {
   "codemirror_mode": {
    "name": "ipython",
    "version": 2
   },
   "file_extension": ".py",
   "mimetype": "text/x-python",
   "name": "python",
   "nbconvert_exporter": "python",
   "pygments_lexer": "ipython2",
   "version": "2.7.6"
  }
 },
 "nbformat": 4,
 "nbformat_minor": 2
}
