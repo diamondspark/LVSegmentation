{
 "cells": [
  {
   "cell_type": "code",
   "execution_count": 1,
   "metadata": {
    "collapsed": true,
    "deletable": true,
    "editable": true
   },
   "outputs": [],
   "source": [
    "import numpy as np\n",
    "from sparse_ae import *\n",
    "import scipy.misc\n",
    "from utils import *"
   ]
  },
  {
   "cell_type": "code",
   "execution_count": 2,
   "metadata": {
    "collapsed": true,
    "deletable": true,
    "editable": true
   },
   "outputs": [],
   "source": [
    "m = StackedAE(img_path='/data/gabriel/LVseg/cropped/img/',label_path='/data/gabriel/LVseg/cropped/label/')\n",
    "tt = Variable(torch.Tensor(1,4096))\n",
    "tt2 = Variable(torch.Tensor(1,100))\n",
    "tt3 = Variable(torch.Tensor(1,100))\n",
    "\n",
    "count=0"
   ]
  },
  {
   "cell_type": "code",
   "execution_count": 3,
   "metadata": {
    "collapsed": false
   },
   "outputs": [
    {
     "name": "stdout",
     "output_type": "stream",
     "text": [
      "Parameter containing:\n",
      " 8.2759e-03 -1.3507e-02 -1.6481e-03  ...  -1.5033e-02  1.1458e-02 -2.4439e-03\n",
      "-1.0906e-02  8.9415e-04  8.1395e-03  ...   3.7338e-03 -1.4543e-02 -4.2509e-03\n",
      " 1.4646e-02 -8.9670e-03 -9.0862e-03  ...  -3.6766e-03  1.4876e-02 -1.4094e-02\n",
      "                ...                   ⋱                   ...                \n",
      " 2.0311e-03  9.2692e-03  1.3329e-02  ...   1.0418e-02 -6.7523e-03 -1.2159e-02\n",
      " 2.7270e-03 -7.6474e-03 -5.6824e-03  ...  -1.8159e-03 -1.4599e-02 -1.5901e-03\n",
      "-5.0498e-04 -9.6961e-03  7.7579e-03  ...  -1.4146e-02 -1.1085e-02 -8.8852e-03\n",
      "[torch.FloatTensor of size 100x4096]\n",
      "\n",
      "Linear (4096 -> 100)\n",
      "Parameter containing:\n",
      "1.00000e-02 *\n",
      " 0.2737  1.9031  1.7141  ...  -9.7932 -9.4015  3.4602\n",
      "-7.1043  5.6153 -3.1162  ...  -8.6443  1.0834 -7.8723\n",
      "-8.2456  8.2623 -6.1510  ...  -0.0051 -3.1942  1.6171\n",
      "          ...             ⋱             ...          \n",
      " 7.6868  6.9047 -4.6403  ...   5.7486  9.2221 -6.6772\n",
      " 5.1379  6.8242 -9.6343  ...  -7.0780  5.4695  9.8306\n",
      "-5.7007 -5.2308  3.6439  ...  -6.8130 -5.7471  3.8228\n",
      "[torch.FloatTensor of size 100x100]\n",
      "\n",
      "Linear (100 -> 100)\n",
      "Parameter containing:\n",
      "-9.0150e-02 -7.9705e-02  4.2412e-02  ...   4.6065e-02 -4.5114e-02  6.4570e-02\n",
      "-2.3007e-02  3.2315e-02 -2.3995e-03  ...  -5.2572e-02  5.8383e-02  9.7095e-02\n",
      "-1.5994e-02  5.1630e-02 -7.6073e-02  ...  -1.7541e-03  5.5716e-02  3.2465e-02\n",
      "                ...                   ⋱                   ...                \n",
      " 5.1926e-02 -8.4486e-02  6.0698e-02  ...  -2.2091e-03  6.9087e-02  5.0289e-02\n",
      " 8.1446e-02 -7.4033e-02  2.3955e-02  ...   1.0277e-02 -2.2531e-02 -2.6880e-02\n",
      " 5.8388e-02  5.8408e-03 -9.3334e-02  ...  -4.4864e-02 -1.0821e-02  1.1440e-02\n",
      "[torch.FloatTensor of size 4096x100]\n",
      "\n",
      "Linear (100 -> 4096)\n"
     ]
    }
   ],
   "source": [
    "for i in m.modules():\n",
    "    if(isinstance(i,nn.Linear)):\n",
    "        \n",
    "        print(i.weight)\n",
    "        i.weight.data= torch.zeros(100,4096)\n",
    "        print(i)"
   ]
  },
  {
   "cell_type": "code",
   "execution_count": 8,
   "metadata": {
    "collapsed": false
   },
   "outputs": [
    {
     "data": {
      "text/plain": [
       "\n",
       "-2.7828e-03 -9.8581e-03 -1.5841e-03  ...  -2.5375e-03 -5.8099e-03 -9.2223e-03\n",
       " 4.8230e-03  3.3869e-04 -4.3676e-03  ...   2.9785e-03  5.9882e-03 -3.9524e-03\n",
       "-1.0268e-02 -1.7177e-03 -7.7186e-03  ...  -1.2092e-02 -8.6243e-03 -9.5736e-03\n",
       "                ...                   ⋱                   ...                \n",
       " 5.1418e-03 -6.7774e-03  1.0367e-02  ...   3.7445e-03  1.5345e-02  1.3422e-02\n",
       " 8.9640e-03 -7.5276e-03  1.3574e-02  ...  -4.3065e-03 -4.6298e-03  1.4129e-02\n",
       "-7.2473e-03  1.5095e-02  3.2795e-03  ...   1.8177e-03  1.2511e-02  3.2939e-03\n",
       "[torch.FloatTensor of size 100x4096]"
      ]
     },
     "execution_count": 8,
     "metadata": {},
     "output_type": "execute_result"
    }
   ],
   "source": [
    "m.state_dict()['fc1.weight']"
   ]
  },
  {
   "cell_type": "code",
   "execution_count": null,
   "metadata": {
    "collapsed": true,
    "deletable": true,
    "editable": true
   },
   "outputs": [],
   "source": [
    "train_st_ae(m,30,'.')"
   ]
  },
  {
   "cell_type": "code",
   "execution_count": null,
   "metadata": {
    "collapsed": true,
    "deletable": true,
    "editable": true
   },
   "outputs": [],
   "source": [
    "# nn_l = localnet(img_path='/data/gabriel/LVseg/dataset_img/img_256/',label_path='/data/gabriel/LVseg/dataset_img/label_256/',b_size=999,test_fraction=0.1,lr = 0.01,gpu=1)\n",
    "                        \n",
    "# with open('/data/gabriel/LVseg/5000_Training.p','rb') as ff:\n",
    "#     [w,b] = pickle.load(ff)\n",
    "# for p in nn_l.modules():\n",
    "#     if isinstance(p,nn.Conv2d):\n",
    "#         #print(p.weight.data)\n",
    "#         #print(p.bias.data)\n",
    "#         p.weight.data, p.bias.data= w.view(100,1,11,11),b\n",
    "#         break\n",
    "# train_lnet(model=nn_l,epochs=1000,fname = './mmm3/mm.pth.tar',pretrain=True,save_dir='./mmm3')\n",
    "# test_lnet(model=nn_l,fname='./mmm3/mm.pth.tar',save_dir='./mmm3')\n"
   ]
  },
  {
   "cell_type": "code",
   "execution_count": 3,
   "metadata": {
    "collapsed": true,
    "deletable": true,
    "editable": true
   },
   "outputs": [],
   "source": [
    "seg = StackedAE(img_path = '/data/gabriel/LVseg/cropped/img',label_path = '/data/gabriel/LVseg/cropped/label',lr = 0.001)"
   ]
  },
  {
   "cell_type": "code",
   "execution_count": 4,
   "metadata": {
    "collapsed": false
   },
   "outputs": [
    {
     "name": "stderr",
     "output_type": "stream",
     "text": [
      "ERROR:root:Internal Python error in the inspect module.\n",
      "Below is the traceback from this internal error.\n",
      "\n"
     ]
    },
    {
     "name": "stdout",
     "output_type": "stream",
     "text": [
      "Traceback (most recent call last):\n",
      "  File \"/usr/local/lib/python2.7/dist-packages/IPython/core/ultratb.py\", line 1132, in get_records\n",
      "    return _fixed_getinnerframes(etb, number_of_lines_of_context, tb_offset)\n",
      "  File \"/usr/local/lib/python2.7/dist-packages/IPython/core/ultratb.py\", line 313, in wrapped\n",
      "    return f(*args, **kwargs)\n",
      "  File \"/usr/local/lib/python2.7/dist-packages/IPython/core/ultratb.py\", line 358, in _fixed_getinnerframes\n",
      "    records = fix_frame_records_filenames(inspect.getinnerframes(etb, context))\n",
      "  File \"/usr/lib/python2.7/inspect.py\", line 1044, in getinnerframes\n",
      "    framelist.append((tb.tb_frame,) + getframeinfo(tb, context))\n",
      "  File \"/usr/lib/python2.7/inspect.py\", line 1004, in getframeinfo\n",
      "    filename = getsourcefile(frame) or getfile(frame)\n",
      "  File \"/usr/lib/python2.7/inspect.py\", line 454, in getsourcefile\n",
      "    if hasattr(getmodule(object, filename), '__loader__'):\n",
      "  File \"/usr/lib/python2.7/inspect.py\", line 483, in getmodule\n",
      "    file = getabsfile(object, _filename)\n",
      "  File \"/usr/lib/python2.7/inspect.py\", line 467, in getabsfile\n",
      "    return os.path.normcase(os.path.abspath(_filename))\n",
      "  File \"/usr/lib/python2.7/posixpath.py\", line 371, in abspath\n",
      "    cwd = os.getcwd()\n",
      "OSError: [Errno 2] No such file or directory\n"
     ]
    },
    {
     "ename": "IndexError",
     "evalue": "string index out of range",
     "output_type": "error",
     "traceback": [
      "\u001b[0;31m---------------------------------------------------\u001b[0m",
      "\u001b[0;31mIndexError\u001b[0m        Traceback (most recent call last)",
      "\u001b[0;32m/usr/local/lib/python2.7/dist-packages/IPython/core/interactiveshell.pyc\u001b[0m in \u001b[0;36mrun_code\u001b[0;34m(self, code_obj, result)\u001b[0m\n\u001b[1;32m   2896\u001b[0m             \u001b[0;32mif\u001b[0m \u001b[0mresult\u001b[0m \u001b[0;32mis\u001b[0m \u001b[0;32mnot\u001b[0m \u001b[0mNone\u001b[0m\u001b[0;34m:\u001b[0m\u001b[0;34m\u001b[0m\u001b[0m\n\u001b[1;32m   2897\u001b[0m                 \u001b[0mresult\u001b[0m\u001b[0;34m.\u001b[0m\u001b[0merror_in_exec\u001b[0m \u001b[0;34m=\u001b[0m \u001b[0msys\u001b[0m\u001b[0;34m.\u001b[0m\u001b[0mexc_info\u001b[0m\u001b[0;34m(\u001b[0m\u001b[0;34m)\u001b[0m\u001b[0;34m[\u001b[0m\u001b[0;36m1\u001b[0m\u001b[0;34m]\u001b[0m\u001b[0;34m\u001b[0m\u001b[0m\n\u001b[0;32m-> 2898\u001b[0;31m             \u001b[0mself\u001b[0m\u001b[0;34m.\u001b[0m\u001b[0mshowtraceback\u001b[0m\u001b[0;34m(\u001b[0m\u001b[0;34m)\u001b[0m\u001b[0;34m\u001b[0m\u001b[0m\n\u001b[0m\u001b[1;32m   2899\u001b[0m         \u001b[0;32melse\u001b[0m\u001b[0;34m:\u001b[0m\u001b[0;34m\u001b[0m\u001b[0m\n\u001b[1;32m   2900\u001b[0m             \u001b[0moutflag\u001b[0m \u001b[0;34m=\u001b[0m \u001b[0;36m0\u001b[0m\u001b[0;34m\u001b[0m\u001b[0m\n",
      "\u001b[0;32m/usr/local/lib/python2.7/dist-packages/IPython/core/interactiveshell.pyc\u001b[0m in \u001b[0;36mshowtraceback\u001b[0;34m(self, exc_tuple, filename, tb_offset, exception_only)\u001b[0m\n\u001b[1;32m   1822\u001b[0m                     \u001b[0;32mexcept\u001b[0m \u001b[0mException\u001b[0m\u001b[0;34m:\u001b[0m\u001b[0;34m\u001b[0m\u001b[0m\n\u001b[1;32m   1823\u001b[0m                         stb = self.InteractiveTB.structured_traceback(etype,\n\u001b[0;32m-> 1824\u001b[0;31m                                             value, tb, tb_offset=tb_offset)\n\u001b[0m\u001b[1;32m   1825\u001b[0m \u001b[0;34m\u001b[0m\u001b[0m\n\u001b[1;32m   1826\u001b[0m                     \u001b[0mself\u001b[0m\u001b[0;34m.\u001b[0m\u001b[0m_showtraceback\u001b[0m\u001b[0;34m(\u001b[0m\u001b[0metype\u001b[0m\u001b[0;34m,\u001b[0m \u001b[0mvalue\u001b[0m\u001b[0;34m,\u001b[0m \u001b[0mstb\u001b[0m\u001b[0;34m)\u001b[0m\u001b[0;34m\u001b[0m\u001b[0m\n",
      "\u001b[0;32m/usr/local/lib/python2.7/dist-packages/IPython/core/ultratb.pyc\u001b[0m in \u001b[0;36mstructured_traceback\u001b[0;34m(self, etype, value, tb, tb_offset, number_of_lines_of_context)\u001b[0m\n\u001b[1;32m   1404\u001b[0m         \u001b[0mself\u001b[0m\u001b[0;34m.\u001b[0m\u001b[0mtb\u001b[0m \u001b[0;34m=\u001b[0m \u001b[0mtb\u001b[0m\u001b[0;34m\u001b[0m\u001b[0m\n\u001b[1;32m   1405\u001b[0m         return FormattedTB.structured_traceback(\n\u001b[0;32m-> 1406\u001b[0;31m             self, etype, value, tb, tb_offset, number_of_lines_of_context)\n\u001b[0m\u001b[1;32m   1407\u001b[0m \u001b[0;34m\u001b[0m\u001b[0m\n\u001b[1;32m   1408\u001b[0m \u001b[0;34m\u001b[0m\u001b[0m\n",
      "\u001b[0;32m/usr/local/lib/python2.7/dist-packages/IPython/core/ultratb.pyc\u001b[0m in \u001b[0;36mstructured_traceback\u001b[0;34m(self, etype, value, tb, tb_offset, number_of_lines_of_context)\u001b[0m\n\u001b[1;32m   1312\u001b[0m             \u001b[0;31m# Verbose modes need a full traceback\u001b[0m\u001b[0;34m\u001b[0m\u001b[0;34m\u001b[0m\u001b[0m\n\u001b[1;32m   1313\u001b[0m             return VerboseTB.structured_traceback(\n\u001b[0;32m-> 1314\u001b[0;31m                 \u001b[0mself\u001b[0m\u001b[0;34m,\u001b[0m \u001b[0metype\u001b[0m\u001b[0;34m,\u001b[0m \u001b[0mvalue\u001b[0m\u001b[0;34m,\u001b[0m \u001b[0mtb\u001b[0m\u001b[0;34m,\u001b[0m \u001b[0mtb_offset\u001b[0m\u001b[0;34m,\u001b[0m \u001b[0mnumber_of_lines_of_context\u001b[0m\u001b[0;34m\u001b[0m\u001b[0m\n\u001b[0m\u001b[1;32m   1315\u001b[0m             )\n\u001b[1;32m   1316\u001b[0m         \u001b[0;32melse\u001b[0m\u001b[0;34m:\u001b[0m\u001b[0;34m\u001b[0m\u001b[0m\n",
      "\u001b[0;32m/usr/local/lib/python2.7/dist-packages/IPython/core/ultratb.pyc\u001b[0m in \u001b[0;36mstructured_traceback\u001b[0;34m(self, etype, evalue, etb, tb_offset, number_of_lines_of_context)\u001b[0m\n\u001b[1;32m   1196\u001b[0m                 \u001b[0mstructured_traceback_parts\u001b[0m \u001b[0;34m+=\u001b[0m \u001b[0mformatted_exception\u001b[0m\u001b[0;34m\u001b[0m\u001b[0m\n\u001b[1;32m   1197\u001b[0m         \u001b[0;32melse\u001b[0m\u001b[0;34m:\u001b[0m\u001b[0;34m\u001b[0m\u001b[0m\n\u001b[0;32m-> 1198\u001b[0;31m             \u001b[0mstructured_traceback_parts\u001b[0m \u001b[0;34m+=\u001b[0m \u001b[0mformatted_exception\u001b[0m\u001b[0;34m[\u001b[0m\u001b[0;36m0\u001b[0m\u001b[0;34m]\u001b[0m\u001b[0;34m\u001b[0m\u001b[0m\n\u001b[0m\u001b[1;32m   1199\u001b[0m \u001b[0;34m\u001b[0m\u001b[0m\n\u001b[1;32m   1200\u001b[0m         \u001b[0;32mreturn\u001b[0m \u001b[0mstructured_traceback_parts\u001b[0m\u001b[0;34m\u001b[0m\u001b[0m\n",
      "\u001b[0;31mIndexError\u001b[0m: string index out of range"
     ]
    }
   ],
   "source": [
    "train_st_ae(seg,10,'.')"
   ]
  },
  {
   "cell_type": "code",
   "execution_count": null,
   "metadata": {
    "collapsed": true,
    "deletable": true,
    "editable": true
   },
   "outputs": [],
   "source": [
    "im = plt.imread('/data/gabriel/LVseg/cropped/img/DET0040201_SA9_ph2.png')\n",
    "std = im.std()\n",
    "mn = im.mean()"
   ]
  },
  {
   "cell_type": "code",
   "execution_count": null,
   "metadata": {
    "collapsed": true,
    "deletable": true,
    "editable": true
   },
   "outputs": [],
   "source": [
    "im-=mn\n",
    "im/=std\n"
   ]
  },
  {
   "cell_type": "code",
   "execution_count": null,
   "metadata": {
    "collapsed": true,
    "deletable": true,
    "editable": true
   },
   "outputs": [],
   "source": [
    "im1 = scipy.misc.imresize(im,(64,64)).astype(float)\n",
    "from torchvision import datasets,transforms\n",
    "seg = seg.cuda()"
   ]
  },
  {
   "cell_type": "code",
   "execution_count": null,
   "metadata": {
    "collapsed": true,
    "deletable": true,
    "editable": true
   },
   "outputs": [],
   "source": [
    "out,out1,out2 = seg(Variable(torch.Tensor(im1.reshape(64,64)).cuda()))"
   ]
  },
  {
   "cell_type": "code",
   "execution_count": null,
   "metadata": {
    "collapsed": true,
    "deletable": true,
    "editable": true
   },
   "outputs": [],
   "source": [
    "aaa = out.cpu().data.numpy().reshape(64,64)"
   ]
  },
  {
   "cell_type": "code",
   "execution_count": null,
   "metadata": {
    "collapsed": true,
    "deletable": true,
    "editable": true
   },
   "outputs": [],
   "source": [
    "plt.imshow(aaa),plt.show()"
   ]
  }
 ],
 "metadata": {
  "kernelspec": {
   "display_name": "P27",
   "language": "python",
   "name": "p27"
  },
  "language_info": {
   "codemirror_mode": {
    "name": "ipython",
    "version": 2
   },
   "file_extension": ".py",
   "mimetype": "text/x-python",
   "name": "python",
   "nbconvert_exporter": "python",
   "pygments_lexer": "ipython2",
   "version": "2.7.6"
  }
 },
 "nbformat": 4,
 "nbformat_minor": 2
}
