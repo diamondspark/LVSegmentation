{
 "cells": [
  {
   "cell_type": "code",
   "execution_count": null,
   "metadata": {
    "collapsed": true
   },
   "outputs": [],
   "source": [
    "import numpy as np\n",
    "from sparse_ae import *\n",
    "import scipy.misc\n",
    "from utils import *"
   ]
  },
  {
   "cell_type": "code",
   "execution_count": null,
   "metadata": {
    "collapsed": true
   },
   "outputs": [],
   "source": [
    "m = StackedAE(img_path='/data/gabriel/LVseg/cropped/img/',label_path='/data/gabriel/LVseg/cropped/label/')\n",
    "tt = Variable(torch.Tensor(1,4096))\n",
    "tt2 = Variable(torch.Tensor(1,100))\n",
    "tt3 = Variable(torch.Tensor(1,100))\n",
    "\n",
    "count=0"
   ]
  },
  {
   "cell_type": "code",
   "execution_count": null,
   "metadata": {
    "collapsed": true
   },
   "outputs": [],
   "source": [
    "train_st_ae(m,30,'.')"
   ]
  },
  {
   "cell_type": "code",
   "execution_count": null,
   "metadata": {
    "collapsed": true
   },
   "outputs": [],
   "source": [
    "# nn_l = localnet(img_path='/data/gabriel/LVseg/dataset_img/img_256/',label_path='/data/gabriel/LVseg/dataset_img/label_256/',b_size=999,test_fraction=0.1,lr = 0.01,gpu=1)\n",
    "                        \n",
    "# with open('/data/gabriel/LVseg/5000_Training.p','rb') as ff:\n",
    "#     [w,b] = pickle.load(ff)\n",
    "# for p in nn_l.modules():\n",
    "#     if isinstance(p,nn.Conv2d):\n",
    "#         #print(p.weight.data)\n",
    "#         #print(p.bias.data)\n",
    "#         p.weight.data, p.bias.data= w.view(100,1,11,11),b\n",
    "#         break\n",
    "# train_lnet(model=nn_l,epochs=1000,fname = './mmm3/mm.pth.tar',pretrain=True,save_dir='./mmm3')\n",
    "# test_lnet(model=nn_l,fname='./mmm3/mm.pth.tar',save_dir='./mmm3')\n"
   ]
  },
  {
   "cell_type": "code",
   "execution_count": null,
   "metadata": {
    "collapsed": true
   },
   "outputs": [],
   "source": [
    "seg = StackedAE(img_path = '/data/gabriel/LVseg/cropped/img',label_path = '/data/gabriel/LVseg/cropped/label',lr = 0.001)"
   ]
  },
  {
   "cell_type": "code",
   "execution_count": null,
   "metadata": {
    "collapsed": true
   },
   "outputs": [],
   "source": [
    "im = plt.imread('/data/gabriel/LVseg/cropped/img/DET0040201_SA9_ph2.png')\n",
    "std = im.std()\n",
    "mn = im.mean()"
   ]
  },
  {
   "cell_type": "code",
   "execution_count": null,
   "metadata": {
    "collapsed": true
   },
   "outputs": [],
   "source": [
    "im-=mn\n",
    "im/=std\n"
   ]
  },
  {
   "cell_type": "code",
   "execution_count": null,
   "metadata": {
    "collapsed": true
   },
   "outputs": [],
   "source": [
    "im1 = scipy.misc.imresize(im,(64,64)).astype(float)\n",
    "from torchvision import datasets,transforms\n",
    "seg = seg.cuda()"
   ]
  },
  {
   "cell_type": "code",
   "execution_count": null,
   "metadata": {
    "collapsed": true
   },
   "outputs": [],
   "source": [
    "out,out1,out2 = seg(Variable(torch.Tensor(im1.reshape(64,64)).cuda()))"
   ]
  },
  {
   "cell_type": "code",
   "execution_count": null,
   "metadata": {
    "collapsed": true
   },
   "outputs": [],
   "source": [
    "aaa = out.cpu().data.numpy().reshape(64,64)"
   ]
  },
  {
   "cell_type": "code",
   "execution_count": null,
   "metadata": {
    "collapsed": true
   },
   "outputs": [],
   "source": [
    "plt.imshow(aaa),plt.show()"
   ]
  }
 ],
 "metadata": {
  "kernelspec": {
   "display_name": "Python 3",
   "language": "python",
   "name": "python3"
  },
  "language_info": {
   "codemirror_mode": {
    "name": "ipython",
    "version": 3
   },
   "file_extension": ".py",
   "mimetype": "text/x-python",
   "name": "python",
   "nbconvert_exporter": "python",
   "pygments_lexer": "ipython3",
   "version": "3.4.3"
  }
 },
 "nbformat": 4,
 "nbformat_minor": 2
}
