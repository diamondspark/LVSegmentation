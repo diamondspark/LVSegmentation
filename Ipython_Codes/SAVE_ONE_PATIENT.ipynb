{
 "cells": [
  {
   "cell_type": "code",
   "execution_count": 1,
   "metadata": {
    "collapsed": true
   },
   "outputs": [],
   "source": [
    "import sys\n",
    "sys.path.append('/data/Gurpreet/CODE/VC2/OCR')\n",
    "import numpy as np\n",
    "from conv import get_echo as GE\n",
    "\n",
    "import matlab.engine\n",
    "import numpy as np\n",
    "eng = matlab.engine.start_matlab()\n",
    "import pandas as pd\n",
    "import matplotlib.pyplot as plt\n",
    "import numpy as np\n",
    "import scipy.io\n",
    "from scipy import misc\n"
   ]
  },
  {
   "cell_type": "code",
   "execution_count": 2,
   "metadata": {},
   "outputs": [],
   "source": [
    "def save_one_file(number_of_set,patnumber,Videonumber,Viewplane):\n",
    "    imgname=\"/data/Gurpreet/Echo/\"+str(patnumber)+\"/\"+str(patnumber)+\"(\"+str(Videonumber)+\").dcm\"\n",
    "    [MANUFACTURER,WIDTH,HEIGHT]=eng.get_file_and_info3(imgname,220,nargout=3)\n",
    "    tempfile=\"/home/gus2011/tempimage_220.mat\"\n",
    "    IMG=scipy.io.loadmat(tempfile, mat_dtype=True)['IMG']\n",
    "    SoI=IMG.shape\n",
    "    Totalframes=SoI[3]\n",
    "    print imgname+\"    \"+Viewplane\n",
    "    for j in xrange(0,Totalframes):\n",
    "            IMG2=IMG[:,:,:,j]\n",
    "            k=j+1\n",
    "            savename=\"/data/Gurpreet/RUNS/VC_8/\"+str(number_of_set)+\"/TEST/\"+str(Viewplane)+\"/\"+str(patnumber)+\"_\"+str(Videonumber)+\"_\"+str(k)+\".jpg\"\n",
    "            IM=IMG2\n",
    "            misc.imsave(savename,IM)"
   ]
  },
  {
   "cell_type": "code",
   "execution_count": 30,
   "metadata": {},
   "outputs": [
    {
     "name": "stdout",
     "output_type": "stream",
     "text": [
      "/data/Gurpreet/Echo/98/98(50).dcm    A4C\n"
     ]
    }
   ],
   "source": [
    "save_one_file(\"SET10\",98,50,\"A4C\")"
   ]
  },
  {
   "cell_type": "code",
   "execution_count": 31,
   "metadata": {},
   "outputs": [
    {
     "name": "stdout",
     "output_type": "stream",
     "text": [
      "/data/Gurpreet/Echo/92/92(37).dcm    A2C\n"
     ]
    }
   ],
   "source": [
    "save_one_file(\"SET10\",92,37,\"A2C\")"
   ]
  },
  {
   "cell_type": "code",
   "execution_count": 32,
   "metadata": {},
   "outputs": [
    {
     "name": "stdout",
     "output_type": "stream",
     "text": [
      "/data/Gurpreet/Echo/31/31(67).dcm    PLA\n"
     ]
    }
   ],
   "source": [
    "save_one_file(\"SET10\",31,67,\"PLA\")"
   ]
  },
  {
   "cell_type": "code",
   "execution_count": null,
   "metadata": {
    "collapsed": true
   },
   "outputs": [],
   "source": []
  }
 ],
 "metadata": {
  "kernelspec": {
   "display_name": "P27",
   "language": "python",
   "name": "p27"
  },
  "language_info": {
   "codemirror_mode": {
    "name": "ipython",
    "version": 2
   },
   "file_extension": ".py",
   "mimetype": "text/x-python",
   "name": "python",
   "nbconvert_exporter": "python",
   "pygments_lexer": "ipython2",
   "version": "2.7.6"
  }
 },
 "nbformat": 4,
 "nbformat_minor": 2
}
