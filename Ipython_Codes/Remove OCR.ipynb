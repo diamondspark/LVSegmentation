{
 "cells": [
  {
   "cell_type": "code",
   "execution_count": 1,
   "metadata": {
    "collapsed": true
   },
   "outputs": [],
   "source": [
    "import matlab.engine\n",
    "eng = matlab.engine.start_matlab()"
   ]
  },
  {
   "cell_type": "code",
   "execution_count": 2,
   "metadata": {
    "collapsed": true
   },
   "outputs": [],
   "source": [
    "[IMG,MANUFACTURER,WIDTH,HEIGHT]=eng.get_file_and_info2('/data/Gurpreet/Echo/2/2(1).dcm',nargout=4)"
   ]
  },
  {
   "cell_type": "code",
   "execution_count": 3,
   "metadata": {
    "collapsed": true
   },
   "outputs": [],
   "source": [
    "import numpy as np\n",
    "IMG2=np.asarray(IMG)"
   ]
  },
  {
   "cell_type": "code",
   "execution_count": 4,
   "metadata": {},
   "outputs": [
    {
     "data": {
      "text/plain": [
       "(422, 636, 3, 25)"
      ]
     },
     "execution_count": 4,
     "metadata": {},
     "output_type": "execute_result"
    }
   ],
   "source": [
    "IMG2.shape"
   ]
  },
  {
   "cell_type": "code",
   "execution_count": 6,
   "metadata": {},
   "outputs": [],
   "source": [
    "NN=IMG2[:,:,:,1]"
   ]
  },
  {
   "cell_type": "code",
   "execution_count": 7,
   "metadata": {},
   "outputs": [
    {
     "name": "stdout",
     "output_type": "stream",
     "text": [
      "[[[0 0 0]\n",
      "  [0 0 0]\n",
      "  [0 0 0]\n",
      "  ..., \n",
      "  [0 0 0]\n",
      "  [0 0 0]\n",
      "  [0 0 0]]\n",
      "\n",
      " [[0 0 0]\n",
      "  [0 0 0]\n",
      "  [0 0 0]\n",
      "  ..., \n",
      "  [0 0 0]\n",
      "  [0 0 0]\n",
      "  [0 0 0]]\n",
      "\n",
      " [[0 0 0]\n",
      "  [0 0 0]\n",
      "  [0 0 0]\n",
      "  ..., \n",
      "  [0 0 0]\n",
      "  [0 0 0]\n",
      "  [0 0 0]]\n",
      "\n",
      " ..., \n",
      " [[0 0 0]\n",
      "  [0 0 0]\n",
      "  [0 0 0]\n",
      "  ..., \n",
      "  [0 0 4]\n",
      "  [0 0 5]\n",
      "  [0 0 7]]\n",
      "\n",
      " [[0 0 0]\n",
      "  [0 0 0]\n",
      "  [0 0 0]\n",
      "  ..., \n",
      "  [0 0 2]\n",
      "  [0 0 0]\n",
      "  [0 0 0]]\n",
      "\n",
      " [[0 0 0]\n",
      "  [0 0 0]\n",
      "  [0 0 0]\n",
      "  ..., \n",
      "  [0 0 0]\n",
      "  [0 0 2]\n",
      "  [0 0 4]]]\n"
     ]
    }
   ],
   "source": [
    "print NN"
   ]
  },
  {
   "cell_type": "code",
   "execution_count": 3,
   "metadata": {
    "collapsed": true
   },
   "outputs": [],
   "source": [
    "IMG=matlab.uint8(IMG)"
   ]
  },
  {
   "cell_type": "code",
   "execution_count": 7,
   "metadata": {
    "collapsed": true
   },
   "outputs": [],
   "source": [
    "import matplotlib.pyplot as plt"
   ]
  },
  {
   "cell_type": "code",
   "execution_count": 6,
   "metadata": {
    "collapsed": true
   },
   "outputs": [],
   "source": [
    "import numpy as np"
   ]
  },
  {
   "cell_type": "code",
   "execution_count": 12,
   "metadata": {},
   "outputs": [
    {
     "data": {
      "text/plain": [
       "(768, 1024, 3)"
      ]
     },
     "execution_count": 12,
     "metadata": {},
     "output_type": "execute_result"
    }
   ],
   "source": [
    "IMG2.shape"
   ]
  },
  {
   "cell_type": "code",
   "execution_count": 8,
   "metadata": {
    "collapsed": true
   },
   "outputs": [],
   "source": [
    "plt.imshow(IMG)\n",
    "plt.show()"
   ]
  },
  {
   "cell_type": "code",
   "execution_count": 15,
   "metadata": {
    "collapsed": true
   },
   "outputs": [],
   "source": [
    "from scipy import misc\n",
    "\n",
    "\n",
    "img = misc.imread('/data/Gurpreet/VC/imgtemp.jpg')"
   ]
  },
  {
   "cell_type": "code",
   "execution_count": 16,
   "metadata": {},
   "outputs": [
    {
     "data": {
      "text/plain": [
       "(422, 636, 3)"
      ]
     },
     "execution_count": 16,
     "metadata": {},
     "output_type": "execute_result"
    }
   ],
   "source": [
    "img.shape"
   ]
  },
  {
   "cell_type": "code",
   "execution_count": null,
   "metadata": {
    "collapsed": true
   },
   "outputs": [],
   "source": [
    "import sys, ast, getopt, types\n",
    "total = len(sys.argv)\n",
    "cmdargs = str(sys.argv)\n",
    "IMG_ADDRESS=sys.argv[1]\n",
    "MANUFACTURER=sys.argv[2]\n",
    "WIDTH=sys.argv[3]\n",
    "HEIGHT=sys.argv[4]\n",
    "SAVE_ADDRESS=sys.argv[5]"
   ]
  },
  {
   "cell_type": "code",
   "execution_count": 9,
   "metadata": {
    "collapsed": true
   },
   "outputs": [],
   "source": [
    "def get_echo(img,company,R,C,save_file):\n",
    "    import matplotlib.pyplot as plt\n",
    "    import numpy as np\n",
    "    import skimage.io as io\n",
    "    import dicom\n",
    "    from scipy import misc\n",
    "    #img = plt.imread(img_add)\n",
    "    \n",
    "    \n",
    "    dic_m = {}\n",
    "    \n",
    "    dic_m[\"'GEMS Ultrasound' 636 422\"] = [[0,316],[311,0],[411,186],[421,306],[421,586],[304,629],[0,316]]\n",
    "    dic_m[\"'GEMS Ultrasound' 636 434\"] = [[10,320],[320,10],[402,162],[400,600],[124,578],[10,320]]\n",
    "    dic_m[\"'GE Vingmed Ultrasound' 636 434\"] = [[7,319],[322,13],[401,241],[401,582],[7,577]]\n",
    "    dic_m[\"'Philips Medical Systems' 800 600\"]=[[98,426],[560,6],[568,636],[432,758],[426,98]]\n",
    "    \n",
    "    dic_m[\"'GE Healthcare Ultrasound' 1016 708\"] = [[66,510],[505,84],[650,313],[663,524],[574,985],[60,510]]\n",
    "    dic_m[\"'SIEMENS' 1024 768\"] = [[30,474],[469,0],[673,0],[673,1024],[469,1023],[30,551]]\n",
    "    \n",
    "    if(company.lower()=='gems ultrasound' and R == 636 and C == 422):\n",
    "        coords = np.array([np.arange(6,316),np.arange(316,6,-1)]).T\n",
    "        for i in coords:\n",
    "            #print(i)\n",
    "            img[:i[0],:i[1]]=0\n",
    "\n",
    "        coords = np.array([np.arange(350,420),np.arange(316,6,-1)]).T\n",
    "        \n",
    "        img[387:,:170]=0\n",
    "        img[390:,603:]=0\n",
    "        img[8:173,602:]=0\n",
    "        \n",
    "    elif (company.lower()=='siemens' and R == 1024 and C == 768):\n",
    "        coords = np.array([np.arange(469,30,-1),np.arange(30,469)]).T\n",
    "        for i in coords:\n",
    "            img[:i[0],:i[1]]=0\n",
    "        img[674:,:997]=0\n",
    "        coords1 = np.array([np.arange(36,469),np.arange(561,993)]).T\n",
    "        img[:258,755:] = 0\n",
    "    \n",
    "    elif company.lower()=='ge healthcare ultrasound' and R == 1016 and C == 708 :\n",
    "        img[:148,:259] = 0\n",
    "        ekg = img[650:,:]\n",
    "        img[650:,:] = 0\n",
    "        img[:,915:] = 0\n",
    "        \n",
    "    elif company.lower()=='gems ultrasound' and R == 636 and C == 434:\n",
    "        img[:8,:] = 0\n",
    "        img[0:42,:95]=0\n",
    "        img[:63,:131] = 0\n",
    "        img[:10,:] = 0\n",
    "        img[:207,592:] = 0\n",
    "        ekg = img[395:,:]\n",
    "        img[393:,:] = 0\n",
    "        \n",
    "    elif(company.lower()=='ge vingmed ultrasound' and R == 636  and C == 434):\n",
    "        img[:8,:] = 0\n",
    "        img[0:42,:95]=0\n",
    "        img[:63,:131] = 0\n",
    "        img[:10,:] = 0\n",
    "        img[:207,592:] = 0\n",
    "        ekg = img[395:,:]\n",
    "        img[393:,:] = 0\n",
    "        \n",
    "    elif(company.lower()=='philips medical systems' and R==800 and C ==600):\n",
    "        img[:130,0:900]=0\n",
    "        #print('here')\n",
    "        img[:,:94]=0\n",
    "        img[61:191,:220] = 0        \n",
    "        img[:93,:431] = 0\n",
    "        img[:380,746:,] = 0\n",
    "        img[538:,679:] = 0\n",
    "        img[555:,:]=0\n",
    "    \n",
    "    #imga = plt.imshow(img, interpolation='nearest',aspect='auto',cmap='gray')\n",
    "    #plt.axis('off')\n",
    "    #plt.tight_layout()\n",
    "    #plt.savefig('/data/Gurpreet/VC/imgtemp.jpg', bbox_inches='tight')\n",
    "    #io.imsave(save_file,img)\n",
    "    \n",
    "    misc.imsave(save_file,img)\n",
    "    \n",
    "    return img"
   ]
  },
  {
   "cell_type": "code",
   "execution_count": 10,
   "metadata": {},
   "outputs": [],
   "source": [
    "IM=get_echo(NN,MANUFACTURER,WIDTH,HEIGHT,'/data/Gurpreet/VC/nsjs.jpg')"
   ]
  },
  {
   "cell_type": "code",
   "execution_count": null,
   "metadata": {
    "collapsed": true
   },
   "outputs": [],
   "source": []
  }
 ],
 "metadata": {
  "kernelspec": {
   "display_name": "P27",
   "language": "python",
   "name": "p27"
  },
  "language_info": {
   "codemirror_mode": {
    "name": "ipython",
    "version": 2
   },
   "file_extension": ".py",
   "mimetype": "text/x-python",
   "name": "python",
   "nbconvert_exporter": "python",
   "pygments_lexer": "ipython2",
   "version": "2.7.6"
  }
 },
 "nbformat": 4,
 "nbformat_minor": 2
}
