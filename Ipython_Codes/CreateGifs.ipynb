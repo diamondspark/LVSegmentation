{
 "cells": [
  {
   "cell_type": "code",
   "execution_count": 1,
   "metadata": {
    "collapsed": true
   },
   "outputs": [],
   "source": [
    "import imageio\n",
    "import pandas as pd\n",
    "import numpy as np"
   ]
  },
  {
   "cell_type": "code",
   "execution_count": 3,
   "metadata": {
    "collapsed": true
   },
   "outputs": [],
   "source": [
    "val=pd.read_excel('/data/Gurpreet/VC/Testing_Images/Mis.xlsx', sheetname='Test', header=None)\n",
    "for i in xrange(0,(val.size/4)):\n",
    "    patnumber=val.iloc[i,0]\n",
    "    Videonumber=val.iloc[i,1]\n",
    "    Totalframes=val.iloc[i,2]\n",
    "    manname=val.iloc[i,3]\n",
    "    gifname=\"/data/Gurpreet/VC/Testing_Images/Incorrect/\"+manname+\"_EQo_\"+str(patnumber)+\"_\"+str(Videonumber)+\"_\"+str(Totalframes)+\".gif\"\n",
    "    with imageio.get_writer(gifname, mode='I') as writer:\n",
    "        for x in xrange(0,Totalframes):\n",
    "            x=x+1\n",
    "            filename=\"/data/Gurpreet/VC/Testing_Images/EQo_\"+str(patnumber)+\"_\"+str(Videonumber)+\"_\"+str(x)+\".jpg\"\n",
    "            image = imageio.imread(filename)\n",
    "            writer.append_data(image)"
   ]
  },
  {
   "cell_type": "code",
   "execution_count": 6,
   "metadata": {
    "collapsed": true
   },
   "outputs": [],
   "source": [
    "    patnumber=3\n",
    "    Videonumber=7\n",
    "    Totalframes=22\n",
    "    gifname=\"/data/Gurpreet/VC/Testing_Images/Incorrect/Philips_EQo_\"+str(patnumber)+\"_\"+str(Videonumber)+\"_\"+str(Totalframes)+\".gif\"\n",
    "    with imageio.get_writer(gifname, mode='I') as writer:\n",
    "        for x in xrange(0,Totalframes):\n",
    "            x=x+1\n",
    "            filename=\"/data/Gurpreet/VC/Testing_Images/EQo_\"+str(patnumber)+\"_\"+str(Videonumber)+\"_\"+str(x)+\".jpg\"\n",
    "            image = imageio.imread(filename)\n",
    "            writer.append_data(image)"
   ]
  },
  {
   "cell_type": "code",
   "execution_count": null,
   "metadata": {
    "collapsed": true
   },
   "outputs": [],
   "source": []
  }
 ],
 "metadata": {
  "kernelspec": {
   "display_name": "Python 2",
   "language": "python",
   "name": "python2"
  },
  "language_info": {
   "codemirror_mode": {
    "name": "ipython",
    "version": 2
   },
   "file_extension": ".py",
   "mimetype": "text/x-python",
   "name": "python",
   "nbconvert_exporter": "python",
   "pygments_lexer": "ipython2",
   "version": "2.7.13"
  }
 },
 "nbformat": 4,
 "nbformat_minor": 2
}
