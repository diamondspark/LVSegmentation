{
 "cells": [
  {
   "cell_type": "code",
   "execution_count": 1,
   "metadata": {
    "collapsed": true
   },
   "outputs": [],
   "source": [
    "import sys\n",
    "sys.path.append('/data/Gurpreet/CODE/VC2/OCR')\n",
    "import numpy as np\n",
    "from conv import get_echo as GE\n",
    "\n",
    "import matlab.engine\n",
    "import numpy as np\n",
    "eng = matlab.engine.start_matlab()\n",
    "import pandas as pd\n",
    "import matplotlib.pyplot as plt\n",
    "import numpy as np\n",
    "import skimage.io as io\n",
    "from scipy import misc"
   ]
  },
  {
   "cell_type": "code",
   "execution_count": 2,
   "metadata": {},
   "outputs": [
    {
     "name": "stdout",
     "output_type": "stream",
     "text": [
      "/data/Gurpreet/Echo/2/2(1).dcm    PLA\n",
      "/data/Gurpreet/Echo/2/2(2).dcm    PLA\n",
      "/data/Gurpreet/Echo/2/2(3).dcm    PLA\n",
      "/data/Gurpreet/Echo/2/2(13).dcm    PLA\n",
      "/data/Gurpreet/Echo/2/2(15).dcm    PLA\n",
      "/data/Gurpreet/Echo/2/2(43).dcm    PLA\n",
      "/data/Gurpreet/Echo/2/2(47).dcm    A4C\n",
      "/data/Gurpreet/Echo/2/2(48).dcm    A4C\n",
      "/data/Gurpreet/Echo/2/2(69).dcm    A2C\n",
      "/data/Gurpreet/Echo/2/2(73).dcm    A4C\n",
      "/data/Gurpreet/Echo/2/2(78).dcm    A2C\n",
      "/data/Gurpreet/Echo/2/2(79).dcm    A4C\n",
      "/data/Gurpreet/Echo/3/3(1).dcm    PLA\n",
      "/data/Gurpreet/Echo/3/3(3).dcm    PLA\n",
      "/data/Gurpreet/Echo/3/3(7).dcm    A4C\n",
      "/data/Gurpreet/Echo/3/3(10).dcm    PLA\n",
      "/data/Gurpreet/Echo/3/3(13).dcm    PLA\n",
      "/data/Gurpreet/Echo/3/3(15).dcm    A2C\n",
      "/data/Gurpreet/Echo/3/3(40).dcm    A4C\n",
      "/data/Gurpreet/Echo/3/3(42).dcm    A4C\n",
      "/data/Gurpreet/Echo/3/3(46).dcm    A4C\n",
      "/data/Gurpreet/Echo/3/3(50).dcm    A2C\n",
      "/data/Gurpreet/Echo/3/3(63).dcm    A2C\n",
      "/data/Gurpreet/Echo/3/3(65).dcm    A2C\n",
      "/data/Gurpreet/Echo/3/3(67).dcm    A2C\n",
      "/data/Gurpreet/Echo/3/3(69).dcm    A4C\n",
      "/data/Gurpreet/Echo/4/4(2).dcm    PLA\n",
      "/data/Gurpreet/Echo/4/4(6).dcm    PLA\n",
      "/data/Gurpreet/Echo/4/4(9).dcm    A2C\n",
      "/data/Gurpreet/Echo/4/4(12).dcm    A4C\n",
      "/data/Gurpreet/Echo/4/4(45).dcm    A4C\n",
      "/data/Gurpreet/Echo/4/4(52).dcm    A4C\n",
      "/data/Gurpreet/Echo/4/4(53).dcm    A4C\n",
      "/data/Gurpreet/Echo/4/4(57).dcm    A4C\n",
      "/data/Gurpreet/Echo/4/4(60).dcm    A2C\n",
      "/data/Gurpreet/Echo/4/4(61).dcm    A2C\n",
      "/data/Gurpreet/Echo/4/4(62).dcm    A2C\n",
      "/data/Gurpreet/Echo/4/4(63).dcm    A4C\n",
      "/data/Gurpreet/Echo/4/4(65).dcm    A4C\n",
      "/data/Gurpreet/Echo/4/4(66).dcm    A4C\n",
      "/data/Gurpreet/Echo/4/4(67).dcm    A4C\n",
      "/data/Gurpreet/Echo/5/5(2).dcm    PLA\n",
      "/data/Gurpreet/Echo/5/5(13).dcm    A4C\n",
      "/data/Gurpreet/Echo/5/5(16).dcm    PLA\n",
      "/data/Gurpreet/Echo/5/5(43).dcm    A4C\n",
      "/data/Gurpreet/Echo/5/5(55).dcm    A2C\n",
      "/data/Gurpreet/Echo/5/5(80).dcm    A4C\n",
      "/data/Gurpreet/Echo/5/5(82).dcm    A4C\n",
      "/data/Gurpreet/Echo/5/5(83).dcm    A2C\n",
      "/data/Gurpreet/Echo/5/5(88).dcm    A4C\n",
      "/data/Gurpreet/Echo/5/5(94).dcm    A4C\n",
      "/data/Gurpreet/Echo/5/5(106).dcm    A4C\n",
      "/data/Gurpreet/Echo/5/5(111).dcm    A4C\n",
      "/data/Gurpreet/Echo/5/5(125).dcm    PLA\n",
      "/data/Gurpreet/Echo/102/102(1).dcm    PLA\n",
      "/data/Gurpreet/Echo/102/102(2).dcm    PLA\n",
      "/data/Gurpreet/Echo/102/102(9).dcm    A4C\n",
      "/data/Gurpreet/Echo/102/102(26).dcm    A4C\n",
      "/data/Gurpreet/Echo/102/102(35).dcm    A2C\n",
      "/data/Gurpreet/Echo/102/102(38).dcm    A4C\n",
      "/data/Gurpreet/Echo/102/102(40).dcm    A2C\n",
      "/data/Gurpreet/Echo/102/102(41).dcm    A4C\n",
      "/data/Gurpreet/Echo/102/102(46).dcm    A4C\n"
     ]
    }
   ],
   "source": [
    "Testfiles=pd.read_excel('/data/Gurpreet/Echo/Excel_Files/View_point2.xlsx', sheetname='Test', header=0)\n",
    "import scipy.io\n",
    "for i in xrange(0,((Testfiles.size/4))):\n",
    "    patnumber=Testfiles.iloc[i,0]\n",
    "    Videonumber=Testfiles.iloc[i,1]\n",
    "    Viewplane=Testfiles.iloc[i,3]\n",
    "    imgname=\"/data/Gurpreet/Echo/\"+str(patnumber)+\"/\"+str(patnumber)+\"(\"+str(Videonumber)+\").dcm\"\n",
    "    [MANUFACTURER,WIDTH,HEIGHT]=eng.get_file_and_info3(imgname,220,nargout=3)\n",
    "    tempfile=\"/home/gus2011/tempimage_220.mat\"\n",
    "    IMG=scipy.io.loadmat(tempfile, mat_dtype=True)['IMG']\n",
    "    SoI=IMG.shape\n",
    "    Totalframes=SoI[3]\n",
    "    if (Viewplane.lower()=='a4c') or (Viewplane.lower()=='a2c') or (Viewplane.lower()=='pla'):\n",
    "        print imgname+\"    \"+Viewplane\n",
    "        for j in xrange(0,Totalframes):\n",
    "            IMG2=IMG[:,:,:,j]\n",
    "            k=j+1\n",
    "            savename=\"/data/Gurpreet/RUNS/VC_5/TEST/\"+str(Viewplane)+\"/\"+str(patnumber)+\"_\"+str(Videonumber)+\"_\"+str(k)+\".jpg\"\n",
    "            IM=IMG2\n",
    "            #IM=GE(IMG2,MANUFACTURER,WIDTH,HEIGHT,0)\n",
    "            misc.imsave(savename,IM)"
   ]
  },
  {
   "cell_type": "code",
   "execution_count": null,
   "metadata": {
    "collapsed": true
   },
   "outputs": [],
   "source": [
    "Trainfiles=pd.read_excel('/data/Gurpreet/Echo/Excel_Files/View_point2.xlsx', sheetname='Train', header=0)\n",
    "import scipy.io\n",
    "for i in xrange(0,((Trainfiles.size/4))):\n",
    "    patnumber=Trainfiles.iloc[i,0]\n",
    "    Videonumber=Trainfiles.iloc[i,1]\n",
    "    Viewplane=Trainfiles.iloc[i,3]\n",
    "    imgname=\"/data/Gurpreet/Echo/\"+str(patnumber)+\"/\"+str(patnumber)+\"(\"+str(Videonumber)+\").dcm\"\n",
    "    [MANUFACTURER,WIDTH,HEIGHT]=eng.get_file_and_info3(imgname,220,nargout=3)\n",
    "    tempfile=\"/home/gus2011/tempimage_220.mat\"\n",
    "    IMG=scipy.io.loadmat(tempfile, mat_dtype=True)['IMG']\n",
    "    SoI=IMG.shape\n",
    "    Totalframes=SoI[3]\n",
    "    if (Viewplane.lower()=='a4c') or (Viewplane.lower()=='a2c') or (Viewplane.lower()=='pla'):\n",
    "        print imgname+\"    \"+Viewplane\n",
    "        for j in xrange(0,Totalframes):\n",
    "            IMG2=IMG[:,:,:,j]\n",
    "            k=j+1\n",
    "            savename=\"/data/Gurpreet/RUNS/VC_6/TRAIN/\"+str(Viewplane)+\"/\"+str(patnumber)+\"_\"+str(Videonumber)+\"_\"+str(k)+\".jpg\"\n",
    "            IM=GE(IMG2,MANUFACTURER,WIDTH,HEIGHT,0)\n",
    "            misc.imsave(savename,IM)"
   ]
  },
  {
   "cell_type": "code",
   "execution_count": null,
   "metadata": {
    "collapsed": true
   },
   "outputs": [],
   "source": []
  }
 ],
 "metadata": {
  "kernelspec": {
   "display_name": "P27",
   "language": "python",
   "name": "p27"
  },
  "language_info": {
   "codemirror_mode": {
    "name": "ipython",
    "version": 2
   },
   "file_extension": ".py",
   "mimetype": "text/x-python",
   "name": "python",
   "nbconvert_exporter": "python",
   "pygments_lexer": "ipython2",
   "version": "2.7.6"
  }
 },
 "nbformat": 4,
 "nbformat_minor": 2
}
