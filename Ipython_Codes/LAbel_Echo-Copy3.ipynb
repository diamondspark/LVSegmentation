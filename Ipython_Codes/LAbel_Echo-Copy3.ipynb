{
 "cells": [
  {
   "cell_type": "code",
   "execution_count": 1,
   "metadata": {},
   "outputs": [
    {
     "ename": "SyntaxError",
     "evalue": "invalid syntax (<ipython-input-1-12765c216174>, line 12)",
     "output_type": "error",
     "traceback": [
      "\u001b[0;36m  File \u001b[0;32m\"<ipython-input-1-12765c216174>\"\u001b[0;36m, line \u001b[0;32m12\u001b[0m\n\u001b[0;31m    export CUDA_VISIBLE_DEVICES ==''\u001b[0m\n\u001b[0m                              ^\u001b[0m\n\u001b[0;31mSyntaxError\u001b[0m\u001b[0;31m:\u001b[0m invalid syntax\n"
     ]
    }
   ],
   "source": [
    "import os, sys\n",
    "import subprocess\n",
    "import tensorflow as tf\n",
    "import pandas as pd\n",
    "import numpy as np\n",
    "from sklearn.preprocessing import normalize\n",
    "import matplotlib.pyplot as plt\n",
    "from pandas.tools.plotting import table\n",
    "import seaborn as sns\n",
    "from IPython.display import clear_output\n",
    "os.environ['TF_CPP_MIN_LOG_LEVEL'] = '2'\n",
    "export CUDA_VISIBLE_DEVICES ==''"
   ]
  },
  {
   "cell_type": "code",
   "execution_count": null,
   "metadata": {},
   "outputs": [],
   "source": [
    "val=pd.read_excel('/data/Gurpreet/Echo/View_point2.xlsx', sheetname='Test', header=0)\n",
    "for i in xrange(0,(val.size/4)):\n",
    "    patnumber=val.iloc[i,0]\n",
    "    Videonumber=val.iloc[i,1]\n",
    "    Totalframes=val.iloc[i,2]\n",
    "    score1=np.zeros((1,7))\n",
    "    score2=np.zeros((1,7))\n",
    "    score3=np.zeros((1,7))\n",
    "    clear_output()\n",
    "    for x in xrange(0,(Totalframes-1)):\n",
    "        tf.reset_default_graph()\n",
    "        x=x+1\n",
    "        impath_beg=\"/data/Gurpreet/View_Class_OCR/Views3/Testing_Images/\"\n",
    "        #image_path=\"/data/Gurpreet/Echo/Test_Images/EQo_\"+str(patnumber)+\"_\"+str(Videonumber)+\"_\"+str(x)+\".jpg\"\n",
    "        #image_path=\"/data/Gurpreet/VC/AVIFiles/Evideo_\"+str(patnumber)+\"_\"+str(x)+\".jpg\"\n",
    "        image_path=str(impath_beg)+str(patnumber)+\"_\"+str(Videonumber)+\"_\"+str(x)+\".jpg\"\n",
    "        image_data = tf.gfile.FastGFile(image_path, 'rb').read()\n",
    "        label_lines = [line.rstrip() for line \n",
    "                   in tf.gfile.GFile(\"/data/Gurpreet/View_Class_OCR/Views3/retrained_labels3.txt\")]\n",
    "        # Unpersists graph from file\n",
    "        with tf.gfile.FastGFile(\"/data/Gurpreet/View_Class_OCR/Views3/retrained_graph3.pb\", 'rb') as f:\n",
    "            graph_def = tf.GraphDef()\n",
    "            graph_def.ParseFromString(f.read())\n",
    "            tf.import_graph_def(graph_def, name='')\n",
    "        with tf.Session() as sess:\n",
    "        # Feed the image_data as input to the graph and get first prediction\n",
    "                softmax_tensor = sess.graph.get_tensor_by_name('final_result:0')\n",
    "                predictions = sess.run(softmax_tensor, {'DecodeJpeg/contents:0': image_data})\n",
    "        predictions_max=(predictions == predictions.max(axis=1, keepdims=True)).astype(int)\n",
    "        score1=np.add(score1,predictions).reshape(1,7)\n",
    "        predictions_normalized = normalize(predictions, norm='max')\n",
    "        score2=np.add(score2,predictions_normalized).reshape(1,7)\n",
    "        score3=np.add(score3,predictions_max.astype(int)).reshape(1,7)\n",
    "        perc1=np.multiply(np.divide(score1,np.sum(score1)),100).reshape(1,7)\n",
    "        perc2=np.multiply(np.divide(score2,np.sum(score2)),100).reshape(1,7)\n",
    "        perc3=np.multiply(np.divide(score3,np.sum(score3)),100).reshape(1,7)\n",
    "        labels=label_lines\n",
    "        label_lines=np.array(label_lines).reshape(1,7)\n",
    "        print ('Sr.no %d/%d Patient number %d Video number %d Total_frames %d completed %d' %(i+1,(val.size/3),patnumber,Videonumber,Totalframes,x))\n",
    "       \n",
    "    Result=np.concatenate((label_lines,score1,perc1,score2,perc2,score3,perc3),axis=0)\n",
    "    Result2=pd.DataFrame(data=Result[1:,0:],columns=Result[0,0:],index=[\"PS\",\"PS%\",\"PSM\",\"PSM%\",\"MS\",\"MS%\"])\n",
    "    Result2=Result2.convert_objects(convert_numeric=True).round(2)\n",
    "    #Result2=Result2.round(3)\n",
    "    print Result2\n",
    "    sizes = Result2.iloc[5,:]\n",
    "    colors = ['gold', 'yellowgreen', 'lightcoral', 'lightskyblue','red','green']\n",
    "    explode = (0.1, 0, 0, 0)  # explode 1st slice\n",
    "    plt.pie(sizes,labels=labels, colors=colors)\n",
    "    piefname=str(impath_beg)+\"Results/PIE/PIE_EQo_\"+str(patnumber)+\"_\"+str(Videonumber)+\"_\"+str(x)+\".jpg\"\n",
    "    plt.savefig(piefname)\n",
    "    plt.close()\n",
    "    Result2.plot.bar()\n",
    "    barfname=str(impath_beg)+\"Results/BAR/BAR_EQo_\"+str(patnumber)+\"_\"+str(Videonumber)+\"_\"+str(x)+\".jpg\"\n",
    "    plt.savefig(barfname)\n",
    "    plt.close()\n",
    "    sns.heatmap(Result2,annot=True, fmt=\"2.2f\")\n",
    "    heatfname=str(impath_beg)+\"Results/HEAT/HEAT_EQo_\"+str(patnumber)+\"_\"+str(Videonumber)+\"_\"+str(x)+\".jpg\"\n",
    "    plt.savefig(heatfname)\n",
    "    plt.close()"
   ]
  },
  {
   "cell_type": "code",
   "execution_count": null,
   "metadata": {
    "collapsed": true
   },
   "outputs": [],
   "source": []
  },
  {
   "cell_type": "code",
   "execution_count": null,
   "metadata": {
    "collapsed": true
   },
   "outputs": [],
   "source": []
  },
  {
   "cell_type": "code",
   "execution_count": null,
   "metadata": {
    "collapsed": true
   },
   "outputs": [],
   "source": []
  }
 ],
 "metadata": {
  "kernelspec": {
   "display_name": "P27",
   "language": "python",
   "name": "p27"
  },
  "language_info": {
   "codemirror_mode": {
    "name": "ipython",
    "version": 2
   },
   "file_extension": ".py",
   "mimetype": "text/x-python",
   "name": "python",
   "nbconvert_exporter": "python",
   "pygments_lexer": "ipython2",
   "version": "2.7.6"
  }
 },
 "nbformat": 4,
 "nbformat_minor": 2
}
