{
 "cells": [
  {
   "cell_type": "code",
   "execution_count": 1,
   "metadata": {
    "collapsed": true
   },
   "outputs": [],
   "source": [
    "import imageio\n",
    "import pandas as pd\n",
    "import numpy as np\n",
    "from pptx import Presentation\n",
    "from pptx.util import Inches"
   ]
  },
  {
   "cell_type": "code",
   "execution_count": 2,
   "metadata": {
    "collapsed": true
   },
   "outputs": [],
   "source": [
    "val=pd.read_excel('/data/Gurpreet/Echo/View_point.xlsx', sheetname='Test', header=0)\n",
    "prs = Presentation()\n",
    "for i in xrange(0,((vall.size/3))):\n",
    "    patnumber=val.iloc[i,0]\n",
    "    Videonumber=val.iloc[i,1]\n",
    "    Totalframes=val.iloc[i,2]\n",
    "    gifname=\"/data/Gurpreet/VC/Testing_Images/Results/Gifs/EQo_\"+str(patnumber)+\"_\"+str(Videonumber)+\"_\"+str(Totalframes)+\".gif\"\n",
    "    barname=\"/data/Gurpreet/VC/Testing_Images/Results/BAR/BAR_EQo_\"+str(patnumber)+\"_\"+str(Videonumber)+\"_\"+str(Totalframes)+\".jpg\"\n",
    "    heatname=\"/data/Gurpreet/VC/Testing_Images/Results/HEAT/HEAT_EQo_\"+str(patnumber)+\"_\"+str(Videonumber)+\"_\"+str(Totalframes)+\".jpg\"\n",
    "    blank_slide_layout = prs.slide_layouts[6]\n",
    "    slide = prs.slides.add_slide(blank_slide_layout)\n",
    "    \n",
    "    left = top = width = height = Inches(1)\n",
    "    txBox = slide.shapes.add_textbox(left, top, width, height)\n",
    "    tf = txBox.text_frame\n",
    "    tf.text = \"Filename:\"+str(patnumber)+\"_\"+str(Videonumber)+\"_\"+str(Totalframes)\n",
    "    \n",
    "    left = Inches(3)\n",
    "    top = Inches(0.30)\n",
    "    height = Inches(3.10)\n",
    "    width = Inches(4.20)\n",
    "    pic = slide.shapes.add_picture(gifname, left, top, height=height, width=width)\n",
    "\n",
    "    left = Inches(0.5)\n",
    "    top = Inches(3.6)\n",
    "    height = Inches(3.50)\n",
    "    width = Inches(4.30)\n",
    "    pic = slide.shapes.add_picture(barname, left, top, height=height, width=width)\n",
    "    \n",
    "    left = Inches(5.30)\n",
    "    top = Inches(3.80)\n",
    "    height = Inches(3.20)\n",
    "    width = Inches(4.30)\n",
    "    pic = slide.shapes.add_picture(heatname, left, top, height=height, width=width)\n",
    "        \n",
    "    \n",
    "    \n",
    "    prs.save('/data/Gurpreet/VC/Testing_Images/Results/Test_Images.pptx')"
   ]
  }
 ],
 "metadata": {
  "kernelspec": {
   "display_name": "Python 2",
   "language": "python",
   "name": "python2"
  },
  "language_info": {
   "codemirror_mode": {
    "name": "ipython",
    "version": 2
   },
   "file_extension": ".py",
   "mimetype": "text/x-python",
   "name": "python",
   "nbconvert_exporter": "python",
   "pygments_lexer": "ipython2",
   "version": "2.7.13"
  }
 },
 "nbformat": 4,
 "nbformat_minor": 2
}
