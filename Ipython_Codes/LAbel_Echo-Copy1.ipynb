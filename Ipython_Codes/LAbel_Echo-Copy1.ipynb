{
 "cells": [
  {
   "cell_type": "code",
   "execution_count": 1,
   "metadata": {},
   "outputs": [
    {
     "name": "stderr",
     "output_type": "stream",
     "text": [
      "/usr/local/lib/python2.7/dist-packages/IPython/html.py:14: ShimWarning: The `IPython.html` package has been deprecated. You should import from `notebook` instead. `IPython.html.widgets` has moved to `ipywidgets`.\n",
      "  \"`IPython.html.widgets` has moved to `ipywidgets`.\", ShimWarning)\n"
     ]
    }
   ],
   "source": [
    "import os, sys\n",
    "import subprocess\n",
    "import tensorflow as tf\n",
    "import pandas as pd\n",
    "import numpy as np\n",
    "from sklearn.preprocessing import normalize\n",
    "import matplotlib.pyplot as plt\n",
    "from pandas.tools.plotting import table\n",
    "import seaborn as sns\n",
    "from IPython.display import clear_output\n",
    "os.environ['TF_CPP_MIN_LOG_LEVEL'] = '2'"
   ]
  },
  {
   "cell_type": "code",
   "execution_count": 2,
   "metadata": {
    "collapsed": true
   },
   "outputs": [],
   "source": [
    "val=pd.read_excel('/data/Gurpreet/Echo/Excel_Files/View_point2.xlsx', sheetname='Test', header=0)\n",
    "for i in xrange(0,(val.size/4)):\n",
    "    patnumber=val.iloc[i,0]\n",
    "    Videonumber=val.iloc[i,1]\n",
    "    Totalframes=val.iloc[i,2]\n",
    "    Viewplane=val.iloc[i,3]\n",
    "    score1=np.zeros((1,3))\n",
    "    score2=np.zeros((1,3))\n",
    "    score3=np.zeros((1,3))\n",
    "    clear_output()\n",
    "    if (Viewplane.lower() == 'a4c') or (Viewplane.lower() == 'a2c') or (Viewplane.lower() == 'pla'):\n",
    "        for x in xrange(0,(Totalframes-1)):\n",
    "                tf.reset_default_graph()\n",
    "                x=x+1\n",
    "                impath_beg=\"/data/Gurpreet/RUNS/VC_5/TEST/\"\n",
    "                image_path=str(impath_beg)+str(Viewplane)+\"/\"+str(patnumber)+\"_\"+str(Videonumber)+\"_\"+str(x)+\".jpg\"\n",
    "                image_data = tf.gfile.FastGFile(image_path, 'rb').read()\n",
    "                label_lines = [line.rstrip() for line \n",
    "                       in tf.gfile.GFile(\"/data/Gurpreet/RUNS/VC_5/retrained_labels_5.txt\")]\n",
    "                # Unpersists graph from file\n",
    "                with tf.gfile.FastGFile(\"/data/Gurpreet/RUNS/VC_5/retrained_graph_5.pb\", 'rb') as f:\n",
    "                    graph_def = tf.GraphDef()\n",
    "                    graph_def.ParseFromString(f.read())\n",
    "                    tf.import_graph_def(graph_def, name='')\n",
    "                with tf.Session() as sess:\n",
    "                    softmax_tensor = sess.graph.get_tensor_by_name('final_result:0')\n",
    "                    predictions = sess.run(softmax_tensor, {'DecodeJpeg/contents:0': image_data})\n",
    "                predictions_max=(predictions == predictions.max(axis=1, keepdims=True)).astype(int)\n",
    "                score1=np.add(score1,predictions).reshape(1,3)\n",
    "                predictions_normalized = normalize(predictions, norm='max')\n",
    "                score2=np.add(score2,predictions_normalized).reshape(1,3)\n",
    "                score3=np.add(score3,predictions_max.astype(int)).reshape(1,3)\n",
    "                perc1=np.multiply(np.divide(score1,np.sum(score1)),100).reshape(1,3)\n",
    "                perc2=np.multiply(np.divide(score2,np.sum(score2)),100).reshape(1,3)\n",
    "                perc3=np.multiply(np.divide(score3,np.sum(score3)),100).reshape(1,3)\n",
    "                labels=label_lines\n",
    "                label_lines=np.array(label_lines).reshape(1,3)\n",
    "                print ('Sr.no %d/%d Patient number %d Video number %d Total_frames %d completed %d' %(i+1,(val.size/4),patnumber,Videonumber,Totalframes,x))\n",
    "        Result=np.concatenate((label_lines,score1,perc1,score2,perc2,score3,perc3),axis=0)\n",
    "        Result2=pd.DataFrame(data=Result[1:,0:],columns=Result[0,0:],index=[\"PS\",\"PS%\",\"PSM\",\"PSM%\",\"MS\",\"MS%\"])\n",
    "        Result2=Result2.convert_objects(convert_numeric=True).round(2)\n",
    "        #Result2=Result2.round(3)\n",
    "        print Result2\n",
    "        sizes = Result2.iloc[5,:]\n",
    "        colors = ['gold', 'yellowgreen', 'lightcoral', 'lightskyblue','red','green']\n",
    "        explode = (0.1, 0, 0, 0)  # explode 1st slice\n",
    "        plt.pie(sizes,labels=labels, colors=colors)\n",
    "        piefname=str(impath_beg)+\"Results/PIE/PIE_EQo_\"+str(patnumber)+\"_\"+str(Videonumber)+\"_\"+str(x)+\".jpg\"\n",
    "        plt.savefig(piefname)\n",
    "        plt.close()\n",
    "        Result2.plot.bar()\n",
    "        barfname=str(impath_beg)+\"Results/BAR/BAR_EQo_\"+str(patnumber)+\"_\"+str(Videonumber)+\"_\"+str(x)+\".jpg\"\n",
    "        plt.savefig(barfname)\n",
    "        plt.close()\n",
    "        sns.heatmap(Result2,annot=True, fmt=\"2.2f\")\n",
    "        heatfname=str(impath_beg)+\"Results/HEAT/HEAT_EQo_\"+str(patnumber)+\"_\"+str(Videonumber)+\"_\"+str(x)+\".jpg\"\n",
    "        plt.savefig(heatfname)\n",
    "        plt.close()"
   ]
  },
  {
   "cell_type": "code",
   "execution_count": null,
   "metadata": {
    "collapsed": true
   },
   "outputs": [],
   "source": []
  }
 ],
 "metadata": {
  "kernelspec": {
   "display_name": "P27",
   "language": "python",
   "name": "p27"
  },
  "language_info": {
   "codemirror_mode": {
    "name": "ipython",
    "version": 2
   },
   "file_extension": ".py",
   "mimetype": "text/x-python",
   "name": "python",
   "nbconvert_exporter": "python",
   "pygments_lexer": "ipython2",
   "version": "2.7.6"
  }
 },
 "nbformat": 4,
 "nbformat_minor": 2
}
