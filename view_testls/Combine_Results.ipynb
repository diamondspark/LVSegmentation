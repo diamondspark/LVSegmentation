{
 "cells": [
  {
   "cell_type": "code",
   "execution_count": 1,
   "metadata": {
    "collapsed": true
   },
   "outputs": [],
   "source": [
    "def calculate_APR(Confusion_mat):\n",
    "\n",
    "    import numpy as np\n",
    "    Total_accuracy=((np.trace(Confusion_mat))/(Confusion_mat.sum()))*100\n",
    "    Precision=np.zeros((len(Confusion_mat),1))\n",
    "    Recall=np.zeros((len(Confusion_mat),1))\n",
    "    runs=len(Confusion_mat)\n",
    "    for i in xrange (0,runs):\n",
    "        Precision[i,0]=(Confusion_mat[i,i])/(Confusion_mat[:,i].sum())\n",
    "        Recall[i,0]=(Confusion_mat[i,i])/(Confusion_mat[i,:].sum())\n",
    "    return Total_accuracy,Precision,Recall"
   ]
  },
  {
   "cell_type": "code",
   "execution_count": 2,
   "metadata": {},
   "outputs": [
    {
     "name": "stdout",
     "output_type": "stream",
     "text": [
      "560.0\n"
     ]
    },
    {
     "name": "stderr",
     "output_type": "stream",
     "text": [
      "/usr/local/lib/python2.7/dist-packages/ipykernel/__main__.py:9: RuntimeWarning: invalid value encountered in double_scalars\n"
     ]
    }
   ],
   "source": [
    "import numpy as np\n",
    "temp_Pr=np.zeros((7,1))\n",
    "temp_Re=np.zeros((7,1))\n",
    "Total_Accuracy=np.zeros((10,1))\n",
    "for j in xrange(0,10):\n",
    "    k=j+1\n",
    "    setnumber=\"SET\"+str(k)\n",
    "    Model_name=\"ResNetModel_Pretrained_7_views_bs_100_e_10_28062017_0640.pth.tar\"\n",
    "    folderpath=\"/data/Gurpreet/RUNS/VC_10/\"+setnumber+\"/misc/\"+Model_name[:-8].strip().replace(\" \",\"\")+\"/\"+Model_name+\"c_mat.txt\"\n",
    "    Confusion_mat=np.loadtxt(folderpath)\n",
    "    TA,Pr,Re=calculate_APR(Confusion_mat)\n",
    "    save_file=\"/data/Gurpreet/\"+setnumber+\".txt\"\n",
    "    np.savetxt(save_file,Confusion_mat)\n",
    "    temp_Pr=np.concatenate((temp_Pr,Pr),axis=1)\n",
    "    temp_Re=np.concatenate((temp_Re,Re),axis=1)\n",
    "    Total_Accuracy[j,0]=TA\n",
    "print Confusion_mat[0,:].sum()\n",
    "Precision=np.delete(temp_Pr, 0, 1)\n",
    "Recall=np.delete(temp_Re, 0, 1)\n",
    "Total_Accuracy=np.nan_to_num(Total_Accuracy)\n",
    "Precision=np.nan_to_num(Precision)\n",
    "Recall=np.nan_to_num(Recall)\n",
    "\n",
    "Total_Accuracy_mean=np.average(Total_Accuracy,axis=0)\n",
    "Precision_mean=np.average(Precision,axis=1)\n",
    "Recall_mean=np.average(Recall,axis=1)\n",
    "\n",
    "Total_Accuracy_sd=np.std(Total_Accuracy,axis=0)\n",
    "Precision_sd=np.std(Precision,axis=1)\n",
    "Recall_sd=np.std(Recall,axis=1)\n",
    "\n",
    "\n",
    "\n",
    "save_file=\"/data/Gurpreet/\"+setnumber+\"TAM.txt\"\n",
    "np.savetxt(save_file,Total_Accuracy_mean)\n",
    "\n",
    "save_file=\"/data/Gurpreet/\"+setnumber+\"PRM.txt\"\n",
    "np.savetxt(save_file,Precision_mean)\n",
    "\n",
    "save_file=\"/data/Gurpreet/\"+setnumber+\"REM.txt\"\n",
    "np.savetxt(save_file,Recall_mean)\n",
    "\n",
    "save_file=\"/data/Gurpreet/\"+setnumber+\"TASD.txt\"\n",
    "np.savetxt(save_file,Total_Accuracy_sd)\n",
    "\n",
    "save_file=\"/data/Gurpreet/\"+setnumber+\"PRSD.txt\"\n",
    "np.savetxt(save_file,Precision_sd)\n",
    "\n",
    "save_file=\"/data/Gurpreet/\"+setnumber+\"RESD.txt\"\n",
    "np.savetxt(save_file,Recall_sd)\n",
    "\n",
    "\n",
    "\n"
   ]
  },
  {
   "cell_type": "code",
   "execution_count": null,
   "metadata": {
    "collapsed": true
   },
   "outputs": [],
   "source": []
  }
 ],
 "metadata": {
  "kernelspec": {
   "display_name": "P27",
   "language": "python",
   "name": "p27"
  },
  "language_info": {
   "codemirror_mode": {
    "name": "ipython",
    "version": 2
   },
   "file_extension": ".py",
   "mimetype": "text/x-python",
   "name": "python",
   "nbconvert_exporter": "python",
   "pygments_lexer": "ipython2",
   "version": "2.7.6"
  }
 },
 "nbformat": 4,
 "nbformat_minor": 2
}
