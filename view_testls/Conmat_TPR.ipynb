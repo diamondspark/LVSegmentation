{
 "cells": [
  {
   "cell_type": "code",
   "execution_count": null,
   "metadata": {
    "collapsed": true
   },
   "outputs": [],
   "source": [
    "def calculate_APR(Confusion_mat):\n",
    "\n",
    "    import numpy as np\n",
    "    Total_accuracy=((np.trace(Confusion_mat))/(Confusion_mat.sum()))*100\n",
    "    Precision=np.zeros((len(Confusion_mat),1))\n",
    "    Recall=np.zeros((len(Confusion_mat),1))\n",
    "    runs=len(Confusion_mat)\n",
    "    for i in xrange (0,runs):\n",
    "        Precision[i,0]=(Confusion_mat[i,i])/(Confusion_mat[:,i].sum())\n",
    "        Recall[i,0]=(Confusion_mat[i,i])/(Confusion_mat[i,:].sum())\n",
    "    return Total_accuracy,Precision,Recall"
   ]
  }
 ],
 "metadata": {
  "kernelspec": {
   "display_name": "P27",
   "language": "python",
   "name": "p27"
  },
  "language_info": {
   "codemirror_mode": {
    "name": "ipython",
    "version": 2
   },
   "file_extension": ".py",
   "mimetype": "text/x-python",
   "name": "python",
   "nbconvert_exporter": "python",
   "pygments_lexer": "ipython2",
   "version": "2.7.6"
  }
 },
 "nbformat": 4,
 "nbformat_minor": 2
}
